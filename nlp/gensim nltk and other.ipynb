{
 "cells": [
  {
   "cell_type": "markdown",
   "metadata": {},
   "source": [
    "test of gensim and nltk library for stopwords, dictionary creation and bag of words"
   ]
  },
  {
   "cell_type": "code",
   "execution_count": 45,
   "metadata": {
    "collapsed": false
   },
   "outputs": [
    {
     "name": "stdout",
     "output_type": "stream",
     "text": [
      "[nltk_data] Downloading package stopwords to\n",
      "[nltk_data]     C:\\Users\\Matteo.Cuccato\\AppData\\Roaming\\nltk_data...\n",
      "[nltk_data]   Package stopwords is already up-to-date!\n"
     ]
    },
    {
     "data": {
      "text/plain": [
       "True"
      ]
     },
     "execution_count": 45,
     "metadata": {},
     "output_type": "execute_result"
    }
   ],
   "source": [
    "import nltk\n",
    "\n",
    "nltk.download(\"stopwords\")"
   ]
  },
  {
   "cell_type": "code",
   "execution_count": 46,
   "metadata": {
    "collapsed": true
   },
   "outputs": [],
   "source": [
    "documents = [\"La volpe voleva mangiare l´uva\",\n",
    "             \"L´uva era troppo in alto per la volpe\",\n",
    "             \"La volpe non riusciva a raggiungere l´uva\",\n",
    "             \"La volpe rinunciò sostenendo che l´uva non era ancora matura\",\n",
    "             'La volpe era furba, ma a volte la furbizia non paga']"
   ]
  },
  {
   "cell_type": "code",
   "execution_count": 47,
   "metadata": {
    "collapsed": false
   },
   "outputs": [
    {
     "name": "stdout",
     "output_type": "stream",
     "text": [
      "ad\n",
      "al\n",
      "allo\n",
      "ai\n",
      "agli\n",
      "all\n",
      "agl\n",
      "alla\n",
      "alle\n",
      "con\n",
      "col\n"
     ]
    }
   ],
   "source": [
    "from nltk.corpus import stopwords\n",
    "stoplist = stopwords.words('italian') # create an italian stoplist with nltk package\n",
    "len(stoplist)\n",
    "for i in range(0,11):\n",
    "    print(stoplist[i])"
   ]
  },
  {
   "cell_type": "code",
   "execution_count": 48,
   "metadata": {
    "collapsed": false
   },
   "outputs": [
    {
     "name": "stdout",
     "output_type": "stream",
     "text": [
      "a\n",
      "abbia\n",
      "abbiamo\n",
      "abbiano\n",
      "abbiate\n",
      "ad\n",
      "adesso\n",
      "agl\n",
      "agli\n",
      "ai\n",
      "al\n"
     ]
    }
   ],
   "source": [
    "from stop_words import get_stop_words\n",
    "stoplist=get_stop_words('italian') # create an italian stoplist with stop_word package\n",
    "len(stoplist)\n",
    "for i in range(0,11):\n",
    "    print(stoplist[i])"
   ]
  },
  {
   "cell_type": "code",
   "execution_count": 49,
   "metadata": {
    "collapsed": false
   },
   "outputs": [
    {
     "data": {
      "text/plain": [
       "[['La', 'volpe', 'voleva', 'mangiare', 'uva'],\n",
       " ['uva', 'era', 'troppo', 'in', 'alto', 'per', 'la', 'volpe'],\n",
       " ['La', 'volpe', 'non', 'riusciva', 'raggiungere', 'uva'],\n",
       " ['La',\n",
       "  'volpe',\n",
       "  'rinunciò',\n",
       "  'sostenendo',\n",
       "  'che',\n",
       "  'uva',\n",
       "  'non',\n",
       "  'era',\n",
       "  'ancora',\n",
       "  'matura'],\n",
       " ['La',\n",
       "  'volpe',\n",
       "  'era',\n",
       "  'furba',\n",
       "  'ma',\n",
       "  'volte',\n",
       "  'la',\n",
       "  'furbizia',\n",
       "  'non',\n",
       "  'paga']]"
      ]
     },
     "execution_count": 49,
     "metadata": {},
     "output_type": "execute_result"
    }
   ],
   "source": [
    "filtered_corpus_punct_pre = [nltk.wordpunct_tokenize(doc) for doc in documents] # tokenize with punctation\n",
    "# filter word length <= 1\n",
    "filtered_corpus_punct = [ [word for word in sentence if len(word) > 1]for sentence in filtered_corpus_punct_pre]\n",
    "filtered_corpus_punct"
   ]
  },
  {
   "cell_type": "code",
   "execution_count": 50,
   "metadata": {
    "collapsed": false
   },
   "outputs": [
    {
     "data": {
      "text/plain": [
       "[['la', 'volpe', 'voleva', 'mangiare', 'uva'],\n",
       " ['uva', 'troppo', 'alto', 'volpe'],\n",
       " ['la', 'volpe', 'riusciva', 'raggiungere', 'uva'],\n",
       " ['la', 'volpe', 'rinunciò', 'sostenendo', 'uva', 'matura'],\n",
       " ['la', 'volpe', 'furba', 'volte', 'furbizia', 'paga']]"
      ]
     },
     "execution_count": 50,
     "metadata": {},
     "output_type": "execute_result"
    }
   ],
   "source": [
    "filtered_corpus = [[w.lower() for w in doc if w not in stoplist]for doc in filtered_corpus_punct] # filter with stoplist\n",
    "filtered_corpus"
   ]
  },
  {
   "cell_type": "code",
   "execution_count": 51,
   "metadata": {
    "collapsed": false
   },
   "outputs": [
    {
     "name": "stdout",
     "output_type": "stream",
     "text": [
      "{'raggiungere': 7, 'sostenendo': 9, 'rinunciò': 11, 'alto': 6, 'mangiare': 2, 'matura': 10, 'furba': 12, 'furbizia': 15, 'la': 0, 'volpe': 1, 'uva': 3, 'volte': 14, 'troppo': 5, 'riusciva': 8, 'paga': 13, 'voleva': 4}\n"
     ]
    }
   ],
   "source": [
    "from gensim import corpora\n",
    "V = corpora.Dictionary(filtered_corpus) # create a dictionary with the filtered_corpus\n",
    "print(V.token2id) # (word : id)"
   ]
  },
  {
   "cell_type": "code",
   "execution_count": 52,
   "metadata": {
    "collapsed": false
   },
   "outputs": [
    {
     "data": {
      "text/plain": [
       "[[(0, 1), (1, 1), (2, 1), (3, 1), (4, 1)],\n",
       " [(1, 1), (3, 1), (5, 1), (6, 1)],\n",
       " [(0, 1), (1, 1), (3, 1), (7, 1), (8, 1)],\n",
       " [(0, 1), (1, 1), (3, 1), (9, 1), (10, 1), (11, 1)],\n",
       " [(0, 1), (1, 1), (12, 1), (13, 1), (14, 1), (15, 1)]]"
      ]
     },
     "execution_count": 52,
     "metadata": {},
     "output_type": "execute_result"
    }
   ],
   "source": [
    "bow_corpus = [V.doc2bow(d) for d in filtered_corpus]\n",
    "bow_corpus"
   ]
  },
  {
   "cell_type": "markdown",
   "metadata": {},
   "source": [
    "test stemming type:"
   ]
  },
  {
   "cell_type": "code",
   "execution_count": 58,
   "metadata": {
    "collapsed": false
   },
   "outputs": [
    {
     "data": {
      "text/plain": [
       "[['la', 'volp', 'vol', 'mang', 'uva'],\n",
       " ['uva', 'tropp', 'alto', 'volp'],\n",
       " ['la', 'volp', 'riusc', 'raggiung', 'uva'],\n",
       " ['la', 'volp', 'rinunc', 'sosten', 'uva', 'matur'],\n",
       " ['la', 'volp', 'furb', 'volt', 'furbiz', 'pag']]"
      ]
     },
     "execution_count": 58,
     "metadata": {},
     "output_type": "execute_result"
    }
   ],
   "source": [
    "from nltk.stem import SnowballStemmer # for stemming\n",
    "stemmer = SnowballStemmer(\"italian\")\n",
    "stemmed_corpus_snwbll=[[stemmer.stem(word) for word in document] for document in filtered_corpus]\n",
    "stemmed_corpus_snwbll"
   ]
  },
  {
   "cell_type": "code",
   "execution_count": 60,
   "metadata": {
    "collapsed": false
   },
   "outputs": [
    {
     "data": {
      "text/plain": [
       "[['la', 'volp', 'volev', 'mangi', 'uv'],\n",
       " ['uv', 'troppo', 'alto', 'volp'],\n",
       " ['la', 'volp', 'riusciv', 'raggiung', 'uv'],\n",
       " ['la', 'volp', 'rinunciò', 'sostenendo', 'uv', 'matur'],\n",
       " ['la', 'volp', 'furb', 'volt', 'furbiz', 'pag']]"
      ]
     },
     "execution_count": 60,
     "metadata": {},
     "output_type": "execute_result"
    }
   ],
   "source": [
    "from nltk.stem.lancaster import LancasterStemmer\n",
    "st = LancasterStemmer()\n",
    "stemmed_corpus_lanc=[[st.stem(word) for word in document] for document in filtered_corpus]\n",
    "stemmed_corpus_lanc"
   ]
  },
  {
   "cell_type": "markdown",
   "metadata": {},
   "source": [
    "word tagger test:"
   ]
  },
  {
   "cell_type": "code",
   "execution_count": 62,
   "metadata": {
    "collapsed": false
   },
   "outputs": [
    {
     "ename": "TreeTaggerError",
     "evalue": "Can't locate TreeTagger directory (and no TAGDIR specified).",
     "output_type": "error",
     "traceback": [
      "\u001b[0;31m---------------------------------------------------------------------------\u001b[0m",
      "\u001b[0;31mTreeTaggerError\u001b[0m                           Traceback (most recent call last)",
      "\u001b[0;32m<ipython-input-62-df9f21ffacb1>\u001b[0m in \u001b[0;36m<module>\u001b[0;34m()\u001b[0m\n\u001b[1;32m      1\u001b[0m \u001b[1;32mimport\u001b[0m \u001b[0mtreetaggerwrapper\u001b[0m\u001b[1;33m\u001b[0m\u001b[0m\n\u001b[0;32m----> 2\u001b[0;31m \u001b[0mtagger\u001b[0m\u001b[1;33m=\u001b[0m\u001b[0mtreetaggerwrapper\u001b[0m\u001b[1;33m.\u001b[0m\u001b[0mTreeTagger\u001b[0m\u001b[1;33m(\u001b[0m\u001b[0mTAGLANG\u001b[0m\u001b[1;33m=\u001b[0m\u001b[1;34m'it'\u001b[0m\u001b[1;33m)\u001b[0m\u001b[1;33m\u001b[0m\u001b[0m\n\u001b[0m",
      "\u001b[0;32mC:\\Users\\Matteo.Cuccato\\AppData\\Local\\Continuum\\Anaconda3\\lib\\site-packages\\treetaggerwrapper.py\u001b[0m in \u001b[0;36m__init__\u001b[0;34m(self, **kargs)\u001b[0m\n\u001b[1;32m    936\u001b[0m         \u001b[0mlogger\u001b[0m\u001b[1;33m.\u001b[0m\u001b[0mdebug\u001b[0m\u001b[1;33m(\u001b[0m\u001b[1;34m\"Using treetaggerwrapper.py from %s\"\u001b[0m\u001b[1;33m,\u001b[0m \u001b[0mosp\u001b[0m\u001b[1;33m.\u001b[0m\u001b[0mabspath\u001b[0m\u001b[1;33m(\u001b[0m\u001b[0m__file__\u001b[0m\u001b[1;33m)\u001b[0m\u001b[1;33m)\u001b[0m\u001b[1;33m\u001b[0m\u001b[0m\n\u001b[1;32m    937\u001b[0m         \u001b[0mself\u001b[0m\u001b[1;33m.\u001b[0m\u001b[0m_set_language\u001b[0m\u001b[1;33m(\u001b[0m\u001b[0mkargs\u001b[0m\u001b[1;33m)\u001b[0m\u001b[1;33m\u001b[0m\u001b[0m\n\u001b[0;32m--> 938\u001b[0;31m         \u001b[0mself\u001b[0m\u001b[1;33m.\u001b[0m\u001b[0m_set_tagger\u001b[0m\u001b[1;33m(\u001b[0m\u001b[0mkargs\u001b[0m\u001b[1;33m)\u001b[0m\u001b[1;33m\u001b[0m\u001b[0m\n\u001b[0m\u001b[1;32m    939\u001b[0m         \u001b[0mself\u001b[0m\u001b[1;33m.\u001b[0m\u001b[0m_set_preprocessor\u001b[0m\u001b[1;33m(\u001b[0m\u001b[0mkargs\u001b[0m\u001b[1;33m)\u001b[0m\u001b[1;33m\u001b[0m\u001b[0m\n\u001b[1;32m    940\u001b[0m         \u001b[1;31m# Note: TreeTagger process is started later, when really needed.\u001b[0m\u001b[1;33m\u001b[0m\u001b[1;33m\u001b[0m\u001b[0m\n",
      "\u001b[0;32mC:\\Users\\Matteo.Cuccato\\AppData\\Local\\Continuum\\Anaconda3\\lib\\site-packages\\treetaggerwrapper.py\u001b[0m in \u001b[0;36m_set_tagger\u001b[0;34m(self, kargs)\u001b[0m\n\u001b[1;32m    978\u001b[0m                 logger.error(\"Can't locate TreeTagger directory (and \"\n\u001b[1;32m    979\u001b[0m                              \"no TAGDIR specified).\")\n\u001b[0;32m--> 980\u001b[0;31m                 raise TreeTaggerError(\"Can't locate TreeTagger directory (and \"\n\u001b[0m\u001b[1;32m    981\u001b[0m                                       \"no TAGDIR specified).\")\n\u001b[1;32m    982\u001b[0m         \u001b[0mself\u001b[0m\u001b[1;33m.\u001b[0m\u001b[0mtagdir\u001b[0m \u001b[1;33m=\u001b[0m \u001b[0mos\u001b[0m\u001b[1;33m.\u001b[0m\u001b[0mpath\u001b[0m\u001b[1;33m.\u001b[0m\u001b[0mabspath\u001b[0m\u001b[1;33m(\u001b[0m\u001b[0mself\u001b[0m\u001b[1;33m.\u001b[0m\u001b[0mtagdir\u001b[0m\u001b[1;33m)\u001b[0m\u001b[1;33m\u001b[0m\u001b[0m\n",
      "\u001b[0;31mTreeTaggerError\u001b[0m: Can't locate TreeTagger directory (and no TAGDIR specified)."
     ]
    }
   ],
   "source": [
    "import treetaggerwrapper\n",
    "tagger=treetaggerwrapper.TreeTagger(TAGLANG='it')"
   ]
  },
  {
   "cell_type": "code",
   "execution_count": null,
   "metadata": {
    "collapsed": true
   },
   "outputs": [],
   "source": []
  }
 ],
 "metadata": {
  "anaconda-cloud": {},
  "kernelspec": {
   "display_name": "Python [conda root]",
   "language": "python",
   "name": "conda-root-py"
  },
  "language_info": {
   "codemirror_mode": {
    "name": "ipython",
    "version": 3
   },
   "file_extension": ".py",
   "mimetype": "text/x-python",
   "name": "python",
   "nbconvert_exporter": "python",
   "pygments_lexer": "ipython3",
   "version": "3.5.2"
  }
 },
 "nbformat": 4,
 "nbformat_minor": 1
}
