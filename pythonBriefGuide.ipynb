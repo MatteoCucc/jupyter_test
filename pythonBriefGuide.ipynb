{
 "cells": [
  {
   "cell_type": "markdown",
   "metadata": {},
   "source": [
    "### SET\n",
    "The set type is like a mathematical set.  \n",
    "This type is used when you have to manage unordered and nonduplicate values."
   ]
  },
  {
   "cell_type": "code",
   "execution_count": 31,
   "metadata": {
    "collapsed": false
   },
   "outputs": [
    {
     "data": {
      "text/plain": [
       "{'a', 'and', 'for', 'in', 'of', 'the', 'to'}"
      ]
     },
     "execution_count": 31,
     "metadata": {},
     "output_type": "execute_result"
    }
   ],
   "source": [
    "set1 = set('for a of the and to in'.split())\n",
    "set1"
   ]
  },
  {
   "cell_type": "code",
   "execution_count": 32,
   "metadata": {
    "collapsed": false
   },
   "outputs": [
    {
     "data": {
      "text/plain": [
       "{' ', 'a', 'd', 'e', 'f', 'h', 'i', 'n', 'o', 'r', 't'}"
      ]
     },
     "execution_count": 32,
     "metadata": {},
     "output_type": "execute_result"
    }
   ],
   "source": [
    "letter = set('for a of the and to in')\n",
    "letter"
   ]
  },
  {
   "cell_type": "code",
   "execution_count": 33,
   "metadata": {
    "collapsed": false
   },
   "outputs": [
    {
     "data": {
      "text/plain": [
       "{' ', 'a', 'c', 'd', 'e', 'f', 'h', 'i', 'n', 'o', 'r', 't'}"
      ]
     },
     "execution_count": 33,
     "metadata": {},
     "output_type": "execute_result"
    }
   ],
   "source": [
    "letter.add('c')\n",
    "letter"
   ]
  },
  {
   "cell_type": "code",
   "execution_count": 34,
   "metadata": {
    "collapsed": false
   },
   "outputs": [
    {
     "data": {
      "text/plain": [
       "{'1', '2', '3', '4', '5'}"
      ]
     },
     "execution_count": 34,
     "metadata": {},
     "output_type": "execute_result"
    }
   ],
   "source": [
    "number = set('12345')\n",
    "number"
   ]
  },
  {
   "cell_type": "code",
   "execution_count": 35,
   "metadata": {
    "collapsed": false
   },
   "outputs": [
    {
     "data": {
      "text/plain": [
       "{'1', '2', '4', '5'}"
      ]
     },
     "execution_count": 35,
     "metadata": {},
     "output_type": "execute_result"
    }
   ],
   "source": [
    "number.remove('3')\n",
    "number"
   ]
  },
  {
   "cell_type": "code",
   "execution_count": 36,
   "metadata": {
    "collapsed": false
   },
   "outputs": [
    {
     "data": {
      "text/plain": [
       "{'1', '2', '3', '4', '5'}"
      ]
     },
     "execution_count": 36,
     "metadata": {},
     "output_type": "execute_result"
    }
   ],
   "source": [
    "number.add('3')\n",
    "number"
   ]
  },
  {
   "cell_type": "markdown",
   "metadata": {},
   "source": [
    "### DICT\n",
    "dict is like an associative array.   \n",
    "you can define a key and their associate values (like a hashtable)\n",
    "\n",
    "defaultdict is a particular type of dict where you can set a default type of values"
   ]
  },
  {
   "cell_type": "code",
   "execution_count": 37,
   "metadata": {
    "collapsed": true
   },
   "outputs": [],
   "source": [
    "texts = [['human', 'machine', 'interface', 'lab', 'abc', 'computer', 'applications'],\n",
    " ['survey', 'user', 'opinion', 'computer', 'system', 'response', 'time'],\n",
    " ['eps', 'user', 'interface', 'management', 'system'],\n",
    " ['system', 'human', 'system', 'engineering', 'testing', 'eps'],\n",
    " ['relation', 'user', 'perceived', 'response', 'time', 'error', 'measurement'],\n",
    " ['generation', 'random', 'binary', 'unordered', 'trees'],\n",
    " ['intersection', 'graph', 'paths', 'trees'],\n",
    " ['graph', 'minors', 'iv', 'widths', 'trees', 'well', 'quasi', 'ordering'],\n",
    " ['graph', 'minors', 'survey']]"
   ]
  },
  {
   "cell_type": "code",
   "execution_count": 38,
   "metadata": {
    "collapsed": false
   },
   "outputs": [
    {
     "name": "stdout",
     "output_type": "stream",
     "text": [
      "defaultdict(<class 'int'>, {'opinion': 1, 'testing': 1, 'trees': 3, 'graph': 3, 'computer': 2, 'machine': 1, 'response': 2, 'random': 1, 'intersection': 1, 'error': 1, 'interface': 2, 'eps': 2, 'measurement': 1, 'applications': 1, 'iv': 1, 'quasi': 1, 'user': 3, 'widths': 1, 'paths': 1, 'abc': 1, 'ordering': 1, 'relation': 1, 'survey': 2, 'human': 2, 'unordered': 1, 'lab': 1, 'time': 2, 'binary': 1, 'engineering': 1, 'system': 4, 'perceived': 1, 'well': 1, 'minors': 2, 'generation': 1, 'management': 1})\n",
      "1\n"
     ]
    }
   ],
   "source": [
    "from collections import defaultdict\n",
    "frequency = defaultdict(int)\n",
    "for text in texts:\n",
    "    for word in text:\n",
    "        frequency[word] +=1\n",
    "\n",
    "print(frequency)\n",
    "print(frequency['ordering'])"
   ]
  },
  {
   "cell_type": "markdown",
   "metadata": {
    "collapsed": true
   },
   "source": [
    "### pandas Series"
   ]
  },
  {
   "cell_type": "code",
   "execution_count": 11,
   "metadata": {
    "collapsed": false
   },
   "outputs": [],
   "source": [
    "import numpy as np\n",
    "import pandas\n",
    "s = pandas.Series(np.random.randn(5), index=['a', 'b', 'c', 'd', 'e'])"
   ]
  },
  {
   "cell_type": "code",
   "execution_count": 8,
   "metadata": {
    "collapsed": false
   },
   "outputs": [
    {
     "name": "stdout",
     "output_type": "stream",
     "text": [
      "a   -1.164510\n",
      "b   -0.064551\n",
      "c    0.037039\n",
      "d   -1.006017\n",
      "e    0.297079\n",
      "dtype: float64\n",
      "\n",
      "\n",
      "s['a']: -1.16450957626\n",
      "s[0]: -1.16450957626\n"
     ]
    }
   ],
   "source": [
    "print(s)\n",
    "print(\"\\n\")\n",
    "print(\"s[\\'a\\']: \" + str(s['a']))\n",
    "print(\"s[0]: \" + str(s[0]))"
   ]
  },
  {
   "cell_type": "markdown",
   "metadata": {
    "collapsed": true
   },
   "source": [
    "### zip\n",
    "zip([*iterable*,...])\n",
    "\n",
    "zip returns a list of tuples, where the i-th tuple contains the i-th element from each of the argument sequences or iterables"
   ]
  },
  {
   "cell_type": "code",
   "execution_count": 2,
   "metadata": {
    "collapsed": false
   },
   "outputs": [
    {
     "name": "stdout",
     "output_type": "stream",
     "text": [
      "<zip object at 0x0000000004E555C8>\n"
     ]
    }
   ],
   "source": [
    "x = [1, 2, 3]\n",
    "y = [4, 5, 6]\n",
    "zipped = zip(x, y)\n",
    "print(zipped)"
   ]
  },
  {
   "cell_type": "code",
   "execution_count": null,
   "metadata": {
    "collapsed": true
   },
   "outputs": [],
   "source": []
  },
  {
   "cell_type": "code",
   "execution_count": null,
   "metadata": {
    "collapsed": true
   },
   "outputs": [],
   "source": []
  }
 ],
 "metadata": {
  "anaconda-cloud": {},
  "kernelspec": {
   "display_name": "Python [conda root]",
   "language": "python",
   "name": "conda-root-py"
  },
  "language_info": {
   "codemirror_mode": {
    "name": "ipython",
    "version": 3
   },
   "file_extension": ".py",
   "mimetype": "text/x-python",
   "name": "python",
   "nbconvert_exporter": "python",
   "pygments_lexer": "ipython3",
   "version": "3.5.2"
  }
 },
 "nbformat": 4,
 "nbformat_minor": 1
}
